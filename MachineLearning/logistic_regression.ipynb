{
 "cells": [
  {
   "cell_type": "code",
   "execution_count": 24,
   "metadata": {},
   "outputs": [],
   "source": [
    "import pandas as pd\n",
    "import numpy as np\n",
    "import os\n",
    "import matplotlib.pyplot as plt "
   ]
  },
  {
   "cell_type": "code",
   "execution_count": 92,
   "metadata": {},
   "outputs": [],
   "source": [
    "# load training data\n",
    "dataset_path = \"/Users/denisefan/AnacondaProjects/sodaNoteBook/MachineLearning/dataset\"\n",
    "file_name = \"watermelon.csv\"\n",
    "raw = pd.read_csv(os.path.join(dataset_path,file_name))\n",
    "m,n = raw.shape\n",
    "raw['norm']=np.ones((m,1))  \n",
    "\n",
    "dataMat = np.array(raw[['norm','density','saccharinity']].values)\n",
    "labelMat = np.mat(raw['label'].values).transpose()\n",
    "weights = np.array(np.ones((n-1,1)))  "
   ]
  },
  {
   "cell_type": "code",
   "execution_count": 100,
   "metadata": {},
   "outputs": [
    {
     "data": {
      "text/plain": [
       "((17, 3), (3, 1), (17, 1))"
      ]
     },
     "execution_count": 100,
     "metadata": {},
     "output_type": "execute_result"
    }
   ],
   "source": [
    "dataMat, weights, labelMat\n",
    "dataMat.shape, weights.shape, labelMat.shape"
   ]
  },
  {
   "cell_type": "code",
   "execution_count": 95,
   "metadata": {},
   "outputs": [
    {
     "data": {
      "text/plain": [
       "array([[ 2.157 ],\n",
       "       [ 2.15  ],\n",
       "       [ 1.898 ],\n",
       "       [ 1.926 ],\n",
       "       [ 1.771 ],\n",
       "       [ 1.64  ],\n",
       "       [ 1.63  ],\n",
       "       [ 1.648 ],\n",
       "       [ 1.757 ],\n",
       "       [ 1.2697],\n",
       "       [ 1.302 ],\n",
       "       [ 1.442 ],\n",
       "       [ 1.8   ],\n",
       "       [ 1.855 ],\n",
       "       [ 1.73  ],\n",
       "       [ 1.635 ],\n",
       "       [ 1.822 ]])"
      ]
     },
     "execution_count": 95,
     "metadata": {},
     "output_type": "execute_result"
    }
   ],
   "source": [
    "np.dot(dataMat,weights) \n"
   ]
  },
  {
   "cell_type": "code",
   "execution_count": null,
   "metadata": {
    "collapsed": true
   },
   "outputs": [],
   "source": []
  }
 ],
 "metadata": {
  "kernelspec": {
   "display_name": "Python 2",
   "language": "python",
   "name": "python2"
  },
  "language_info": {
   "codemirror_mode": {
    "name": "ipython",
    "version": 2
   },
   "file_extension": ".py",
   "mimetype": "text/x-python",
   "name": "python",
   "nbconvert_exporter": "python",
   "pygments_lexer": "ipython2",
   "version": "2.7.13"
  }
 },
 "nbformat": 4,
 "nbformat_minor": 2
}
